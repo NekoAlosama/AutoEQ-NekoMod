{
 "cells": [
  {
   "cell_type": "code",
   "execution_count": 1,
   "metadata": {},
   "outputs": [],
   "source": [
    "%load_ext autoreload\n",
    "%autoreload 2"
   ]
  },
  {
   "cell_type": "code",
   "execution_count": 4,
   "metadata": {},
   "outputs": [],
   "source": [
    "import os\n",
    "import sys\n",
    "from pathlib import Path\n",
    "ROOT_DIR = os.path.abspath(os.path.join(Path().absolute(), os.pardir))\n",
    "sys.path.insert(1, ROOT_DIR)\n",
    "DIR_PATH = os.path.join(ROOT_DIR, 'research')"
   ]
  },
  {
   "cell_type": "code",
   "execution_count": 7,
   "metadata": {},
   "outputs": [],
   "source": [
    "from glob import glob\n",
    "import numpy as np\n",
    "import scipy\n",
    "import matplotlib.pyplot as plt\n",
    "import PyPDF2\n",
    "from frequency_response import FrequencyResponse"
   ]
  },
  {
   "cell_type": "code",
   "execution_count": 17,
   "metadata": {},
   "outputs": [
    {
     "name": "stdout",
     "output_type": "stream",
     "text": [
      "DUNU Titan 3: \"measured by u/crinacle\"\n",
      "KZ ZS6: \"measured by u/crinacle\"\n",
      "Moondrop Kanas Pro: \"measured by u/crinacle\"\n",
      "Moondrop KXXS: \"measured by crinacle\"\n",
      "Moondrop Spaceship: \"measured by crinacle\"\n"
     ]
    }
   ],
   "source": [
    "# Read headphone model from the PDF\n",
    "for fp in glob(os.path.join(ROOT_DIR, 'measurements', 'oratory1990', 'pdf', '*')):\n",
    "    _, name = os.path.split(fp)\n",
    "    name = name.replace('.pdf', '')\n",
    "    f = open(fp, 'rb')\n",
    "    text = PyPDF2.PdfFileReader(f).getPage(0).extractText()\n",
    "    #print(f'\"crinacle\" in PDF: {\"crinacle\" in text.lower()}')\n",
    "    lines = text.split('\\n')\n",
    "    for line in lines:\n",
    "        if 'crinacle' in line.lower():\n",
    "            print(f'{name}: \"{line}\"')\n",
    "    f.close()"
   ]
  },
  {
   "cell_type": "code",
   "execution_count": null,
   "metadata": {},
   "outputs": [],
   "source": []
  }
 ],
 "metadata": {
  "kernelspec": {
   "display_name": "AutoEq (Python 3.7)",
   "language": "python",
   "name": "autoeq"
  },
  "language_info": {
   "codemirror_mode": {
    "name": "ipython",
    "version": 3
   },
   "file_extension": ".py",
   "mimetype": "text/x-python",
   "name": "python",
   "nbconvert_exporter": "python",
   "pygments_lexer": "ipython3",
   "version": "3.7.4"
  }
 },
 "nbformat": 4,
 "nbformat_minor": 4
}
