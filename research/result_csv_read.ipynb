{
 "cells": [
  {
   "cell_type": "code",
   "execution_count": 1,
   "metadata": {},
   "outputs": [],
   "source": [
    "%load_ext autoreload\n",
    "%autoreload 2"
   ]
  },
  {
   "cell_type": "code",
   "execution_count": 2,
   "metadata": {},
   "outputs": [],
   "source": [
    "import os\n",
    "import sys\n",
    "from pathlib import Path\n",
    "ROOT_DIR = os.path.abspath(os.path.join(Path().absolute(), os.pardir))\n",
    "sys.path.insert(1, ROOT_DIR)"
   ]
  },
  {
   "cell_type": "code",
   "execution_count": 3,
   "metadata": {},
   "outputs": [],
   "source": [
    "from time import time\n",
    "import numpy as np\n",
    "import scipy\n",
    "import matplotlib.pyplot as plt\n",
    "from frequency_response import FrequencyResponse"
   ]
  },
  {
   "cell_type": "code",
   "execution_count": 15,
   "metadata": {},
   "outputs": [],
   "source": [
    "import re\n",
    "header_pattern = r'frequency(,(raw|smoothed|error|error_smoothed|equalization|parametric_eq|fixed_band_eq|equalized_raw|equalized_smoothed|target))+'\n",
    "float_pattern = r'-?\\d+\\.?\\d+'\n",
    "data_2_pattern = r'{fl}[ ,;:\\t]+{fl}?'.format(fl=float_pattern)\n",
    "data_n_pattern = r'{fl}([ ,;:\\t]+{fl})+?'.format(fl=float_pattern)\n",
    "autoeq_pattern = r'^{header}(\\n{data})+\\n*$'.format(header=header_pattern, data=data_n_pattern)"
   ]
  },
  {
   "cell_type": "code",
   "execution_count": 19,
   "metadata": {},
   "outputs": [
    {
     "name": "stdout",
     "output_type": "stream",
     "text": [
      "Header: frequency,raw,error,smoothed,error_smoothed,equalization,parametric_eq,fixed_band_eq,equalized_raw,equalized_smoothed,target\n",
      "Header pattern match: frequency,raw,error,smoothed,error\n",
      "Header pattern match: frequency,parametric_eq,fixed_band_eq,equalized_raw,equalized_smoothed,target\n",
      "Data n pattern match: 20.00,-3.60\n",
      "frequency,raw,error,smoothed,error_smoothed,equalization,parametric_eq,fixed_band_eq,equalized_raw,equalized_smoothed,target\n",
      "20.00,-3.60,-5.95,-3.61,-5.99,5.99,5.00,2.10,2.39,2.37,2.35\n",
      "<re.Match object; span=(0, 43103), match='frequency,raw,error,smoothed,error_smoothed,equal>\n"
     ]
    }
   ],
   "source": [
    "with open(os.path.join(ROOT_DIR, 'results', 'oratory1990', 'harman_over-ear_2018', 'Sennheiser HD 800', 'Sennheiser HD 800.csv'), 'r', encoding='utf-8') as fh:\n",
    "    s = fh.read()\n",
    "    lines = s.split('\\n')\n",
    "header = lines[0]\n",
    "print('Header:', header)\n",
    "print('Header pattern match:', re.match(header_pattern, header)[0])\n",
    "print('Header pattern match:', re.match(header_pattern, 'frequency,parametric_eq,fixed_band_eq,equalized_raw,equalized_smoothed,target')[0])\n",
    "print('Data n pattern match:', re.match(data_n_pattern, lines[1])[0])\n",
    "print(re.match(rf'^{header_pattern}\\n{data_n_pattern}.*', s)[0])\n",
    "print(re.match(autoeq_pattern, s))"
   ]
  },
  {
   "cell_type": "code",
   "execution_count": null,
   "metadata": {},
   "outputs": [],
   "source": []
  }
 ],
 "metadata": {
  "kernelspec": {
   "display_name": "AutoEq (Python 3.7)",
   "language": "python",
   "name": "autoeq"
  },
  "language_info": {
   "codemirror_mode": {
    "name": "ipython",
    "version": 3
   },
   "file_extension": ".py",
   "mimetype": "text/x-python",
   "name": "python",
   "nbconvert_exporter": "python",
   "pygments_lexer": "ipython3",
   "version": "3.7.4"
  }
 },
 "nbformat": 4,
 "nbformat_minor": 4
}
